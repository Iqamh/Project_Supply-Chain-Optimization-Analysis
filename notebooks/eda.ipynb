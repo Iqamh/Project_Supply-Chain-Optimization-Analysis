{
 "cells": [
  {
   "cell_type": "markdown",
   "metadata": {},
   "source": [
    "# Exploratory Data Analysis – DataCo Supply Chain\n",
    "\n",
    "This notebook performs data inspection and cleaning of the DataCo dataset before further analysis.\n"
   ]
  },
  {
   "cell_type": "code",
   "execution_count": null,
   "metadata": {},
   "outputs": [],
   "source": [
    "# Import Library\n",
    "import pandas as pd"
   ]
  },
  {
   "cell_type": "code",
   "execution_count": 1,
   "metadata": {},
   "outputs": [],
   "source": [
    "# Load Data\n",
    "df = pd.read_csv(\"./data/DataCoSupplyChainDataset.csv\", encoding=\"latin1\")\n",
    "print(df.head())"
   ]
  },
  {
   "cell_type": "code",
   "execution_count": null,
   "metadata": {},
   "outputs": [],
   "source": [
    "# Check Information Data\n",
    "print(df.info())\n",
    "print(df.isnull().sum())"
   ]
  },
  {
   "cell_type": "markdown",
   "metadata": {},
   "source": [
    "<!-- Insight -->\n",
    "- There are several columns with null/missing values, such as Customer Zipcode, Order Zipcode, and Product Description. (These do not have a significant impact, so they can either be removed [optional] or left as-is.)\n",
    "- Convert order date (DateOrders) and shipping date (DateOrders) to datetime.\n",
    "- Create a New Column: Shipping delays.\n",
    "- Drop Irrelevant Data"
   ]
  },
  {
   "cell_type": "code",
   "execution_count": null,
   "metadata": {},
   "outputs": [],
   "source": [
    "# Cleaning and Preprocessing Data\n",
    "df[\"Customer FullName\"] = df[[\"Customer Fname\", \"Customer Lname\"]].fillna(\"\").agg(\" \".join, axis=1).str.strip()\n",
    "\n",
    "df[\"order date (DateOrders)\"] = pd.to_datetime(df[\"order date (DateOrders)\"])\n",
    "df[\"shipping date (DateOrders)\"] = pd.to_datetime(df[\"shipping date (DateOrders)\"])\n",
    "df[\"shipping delays (DateOrders)\"] = (df[\"shipping date (DateOrders)\"]-df[\"order date (DateOrders)\"]).dt.days\n",
    "\n",
    "df = df.drop(columns=[\"Latitude\", \"Longitude\", \"Order Zipcode\", \"Product Description\", \"Customer Fname\", \"Customer Lname\"])"
   ]
  },
  {
   "cell_type": "code",
   "execution_count": null,
   "metadata": {},
   "outputs": [],
   "source": [
    "# Save Cleaned Data\n",
    "df.to_csv(\"./data/DataCoSupplyChainDataset_Cleaned.csv\", index=False)"
   ]
  }
 ],
 "metadata": {
  "kernelspec": {
   "display_name": "Python 3.10.7 64-bit",
   "language": "python",
   "name": "python3"
  },
  "language_info": {
   "codemirror_mode": {
    "name": "ipython",
    "version": 3
   },
   "file_extension": ".py",
   "mimetype": "text/x-python",
   "name": "python",
   "nbconvert_exporter": "python",
   "pygments_lexer": "ipython3",
   "version": "3.10.7"
  },
  "orig_nbformat": 4,
  "vscode": {
   "interpreter": {
    "hash": "369f2c481f4da34e4445cda3fffd2e751bd1c4d706f27375911949ba6bb62e1c"
   }
  }
 },
 "nbformat": 4,
 "nbformat_minor": 2
}
