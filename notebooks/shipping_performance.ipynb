{
 "cells": [
  {
   "cell_type": "markdown",
   "metadata": {},
   "source": [
    "# Shipping Delay Analysis\n",
    "\n",
    "Explore delays and logistic performance across regions and shipping modes."
   ]
  },
  {
   "cell_type": "code",
   "execution_count": null,
   "metadata": {},
   "outputs": [],
   "source": [
    "# Import Library\n",
    "import pandas as pd"
   ]
  },
  {
   "cell_type": "code",
   "execution_count": null,
   "metadata": {},
   "outputs": [],
   "source": [
    "# Load Data\n",
    "df = pd.read_csv(\"./data/DataCoSupplyChainDataset_Cleaned.csv\")\n",
    "print(df.head())"
   ]
  },
  {
   "cell_type": "code",
   "execution_count": null,
   "metadata": {},
   "outputs": [],
   "source": [
    "# Delay by Region\n",
    "delay_by_region = df.groupby(\"Order Region\")[\"shipping delays (DateOrders)\"].mean().sort_values().reset_index()\n",
    "print(delay_by_region)"
   ]
  },
  {
   "cell_type": "markdown",
   "metadata": {},
   "source": [
    "<!-- Insight -->\n",
    "Shipping delays occur most frequently in Central Africa, while Canada has the lowest incidence. Additionally, Standard and Second Class shipping methods experience significantly more delays compared to Same Day delivery."
   ]
  },
  {
   "cell_type": "code",
   "execution_count": null,
   "metadata": {},
   "outputs": [],
   "source": [
    "# Delay by Shipping Method\n",
    "delay_by_mode = df.groupby(\"Shipping Mode\")[\"shipping delays (DateOrders)\"].mean().sort_values().reset_index()\n",
    "print(delay_by_mode)"
   ]
  },
  {
   "cell_type": "code",
   "execution_count": null,
   "metadata": {},
   "outputs": [],
   "source": [
    "# Save Shipping Delay\n",
    "shippingDelays_Summary = df.groupby([\"Order Region\", \"Shipping Mode\"])[\"shipping delays (DateOrders)\"].mean().sort_values().reset_index()\n",
    "shippingDelays_Summary.to_csv(\"./powerbi/shippingDelays_Summary_Summary.csv\", index=False)"
   ]
  }
 ],
 "metadata": {
  "kernelspec": {
   "display_name": "Python 3.10.7 64-bit",
   "language": "python",
   "name": "python3"
  },
  "language_info": {
   "name": "python",
   "version": "3.10.7"
  },
  "orig_nbformat": 4,
  "vscode": {
   "interpreter": {
    "hash": "369f2c481f4da34e4445cda3fffd2e751bd1c4d706f27375911949ba6bb62e1c"
   }
  }
 },
 "nbformat": 4,
 "nbformat_minor": 2
}
