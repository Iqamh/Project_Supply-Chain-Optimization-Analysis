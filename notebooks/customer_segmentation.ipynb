{
 "cells": [
  {
   "cell_type": "markdown",
   "metadata": {},
   "source": [
    "# Customer Segmentation\n",
    "\n",
    "Group customers by total value and profit and segment into Low, Medium, and High."
   ]
  },
  {
   "cell_type": "code",
   "execution_count": null,
   "metadata": {},
   "outputs": [],
   "source": [
    "# Import Library\n",
    "import pandas as pd"
   ]
  },
  {
   "cell_type": "code",
   "execution_count": null,
   "metadata": {},
   "outputs": [],
   "source": [
    "# Load Data\n",
    "df = pd.read_csv(\"./data/DataCoSupplyChainDataset_Cleaned.csv\")\n",
    "print(df.head())"
   ]
  },
  {
   "cell_type": "code",
   "execution_count": null,
   "metadata": {},
   "outputs": [],
   "source": [
    "# Checking Correlation Between Sales per Customer and Profit\n",
    "cust_seg = df.groupby(\"Customer Id\")[[\"Sales per customer\", \"Order Profit Per Order\"]].sum().reset_index()\n",
    "print(cust_seg)"
   ]
  },
  {
   "cell_type": "markdown",
   "metadata": {},
   "source": [
    "<!-- Insight -->\n",
    "This demonstrates that customers with high sales do not always yield high profits. For instance, Customer ID 4 recorded sales of 1480.71, but the profit is −439.98."
   ]
  },
  {
   "cell_type": "code",
   "execution_count": null,
   "metadata": {},
   "outputs": [],
   "source": [
    "# Initiate Quantile\n",
    "qt = [0.33, 0.66]"
   ]
  },
  {
   "cell_type": "markdown",
   "metadata": {},
   "source": [
    "<!-- Insight -->\n",
    "The values are divided into three segments—Low, Medium, and High—using quantile-based thresholds."
   ]
  },
  {
   "cell_type": "code",
   "execution_count": null,
   "metadata": {},
   "outputs": [],
   "source": [
    "# Calculate Quantile\n",
    "Sales_Seg = cust_seg[\"Sales per customer\"].quantile(qt)\n",
    "Profit_Seg = cust_seg[\"Order Profit Per Order\"].quantile(qt)"
   ]
  },
  {
   "cell_type": "code",
   "execution_count": null,
   "metadata": {},
   "outputs": [],
   "source": [
    "# Make Segmentation Function\n",
    "def seg_val(value, quantiles):\n",
    "    if value <= quantiles[0.33]:\n",
    "        return \"Low\"\n",
    "    elif value <= quantiles[0.66]:\n",
    "        return \"Medium\"\n",
    "    return \"High\""
   ]
  },
  {
   "cell_type": "code",
   "execution_count": null,
   "metadata": {},
   "outputs": [],
   "source": [
    "# Apply Segmentation Function\n",
    "cust_seg[\"Sales Segment\"] = cust_seg[\"Sales per customer\"].apply(lambda x: seg_val(x, Sales_Seg))\n",
    "cust_seg[\"Profit Segment\"] = cust_seg[\"Order Profit Per Order\"].apply(lambda x: seg_val(x, Profit_Seg))\n",
    "print(cust_seg)"
   ]
  },
  {
   "cell_type": "code",
   "execution_count": null,
   "metadata": {},
   "outputs": [],
   "source": [
    "# Save Customer Segmentation\n",
    "cust_seg.to_csv(\"./powerbi/CustomerSegmentation_Summary.csv\", index=False)"
   ]
  }
 ],
 "metadata": {
  "kernelspec": {
   "display_name": "Python 3.10.7 64-bit",
   "language": "python",
   "name": "python3"
  },
  "language_info": {
   "name": "python",
   "version": "3.10.7"
  },
  "orig_nbformat": 4,
  "vscode": {
   "interpreter": {
    "hash": "369f2c481f4da34e4445cda3fffd2e751bd1c4d706f27375911949ba6bb62e1c"
   }
  }
 },
 "nbformat": 4,
 "nbformat_minor": 2
}
